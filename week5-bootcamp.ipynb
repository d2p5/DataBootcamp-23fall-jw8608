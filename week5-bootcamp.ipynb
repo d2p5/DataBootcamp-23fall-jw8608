{
 "cells": [
  {
   "cell_type": "code",
   "execution_count": null,
   "metadata": {},
   "outputs": [],
   "source": [
    "'''\n",
    "1. How do you assess the statistical significance of an insight?\n",
    "2. What is the Central Limit Theorem? Explain it. Why is it important?\n",
    "3. What is the statistical power?\n",
    "4. How do you control for biases?\n",
    "5. What are confounding variables?\n",
    "6. What is A/B testing?\n",
    "7. What are confidence intervals?\n",
    "'''"
   ]
  },
  {
   "cell_type": "markdown",
   "metadata": {},
   "source": [
    "1. How do you assess the statistical significance of an insight?  \n",
    "answer: We can use hypothesis testing. We can use the p-value to determine the statistical significance of an insight. If the p-value is less than the significance level, we can reject the null hypothesis and conclude that the insight is statistically significant. Vice versa."
   ]
  },
  {
   "cell_type": "markdown",
   "metadata": {},
   "source": [
    "2. What is the Central Limit Theorem? Explain it. Why is it important?  \n",
    "answer: The Central Limit Theorem states that the sampling distribution of the sample means approaches a normal distribution as the sample size gets larger. It is important because it allows us to use the normal distribution to make inferences about the population mean using the sample mean."
   ]
  },
  {
   "cell_type": "markdown",
   "metadata": {},
   "source": [
    "3. What is the statistical power?  \n",
    "answer: Statistical power is the probability of correctly rejecting the null hypothesis when the null hypothesis is false."
   ]
  },
  {
   "cell_type": "markdown",
   "metadata": {},
   "source": [
    "4. How do you control for biases?  \n",
    "answer: We can use random sampling or stratified sampling to control for biases."
   ]
  },
  {
   "cell_type": "markdown",
   "metadata": {},
   "source": [
    "5. What are confounding variables?  \n",
    "answer: Confounding variables are variables that affect the dependent variable and independent variable.  It must be correlated with the independent variable (This may be a causal relationship, but it does not have to be.). And it must be causally related to the dependent variable. Confounding variables may cause a false association between the dependent and independent variables."
   ]
  },
  {
   "cell_type": "markdown",
   "metadata": {},
   "source": [
    "6. What is A/B testing?  \n",
    "answer: A/B testing is a randomized experiment with two variants, A and B. It is used to determine which variant is better for a given objective. It is done by randomly assigning users to either variant A or B and then comparing the results of the two groups, which involves hypothesis testing."
   ]
  },
  {
   "cell_type": "markdown",
   "metadata": {},
   "source": [
    "7. What are confidence intervals?  \n",
    "answer: Confidence intervals are a range of values that we are fairly sure our true value lies in. It is calculated from the sample mean and standard deviation. The confidence level is the probability that the confidence interval contains the true population mean."
   ]
  }
 ],
 "metadata": {
  "kernelspec": {
   "display_name": "Python 3",
   "language": "python",
   "name": "python3"
  },
  "language_info": {
   "name": "python",
   "version": "3.8.1"
  }
 },
 "nbformat": 4,
 "nbformat_minor": 2
}
